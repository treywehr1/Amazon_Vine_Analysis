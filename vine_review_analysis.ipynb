{
 "metadata": {
  "language_info": {
   "codemirror_mode": {
    "name": "ipython",
    "version": 3
   },
   "file_extension": ".py",
   "mimetype": "text/x-python",
   "name": "python",
   "nbconvert_exporter": "python",
   "pygments_lexer": "ipython3",
   "version": "3.8.3-final"
  },
  "orig_nbformat": 2,
  "kernelspec": {
   "name": "python3",
   "display_name": "Python 3",
   "language": "python"
  }
 },
 "nbformat": 4,
 "nbformat_minor": 2,
 "cells": [
  {
   "cell_type": "code",
   "execution_count": 1,
   "metadata": {},
   "outputs": [],
   "source": [
    "#import pandas dependency\n",
    "import pandas as pd"
   ]
  },
  {
   "cell_type": "code",
   "execution_count": 2,
   "metadata": {},
   "outputs": [
    {
     "output_type": "execute_result",
     "data": {
      "text/plain": [
       "        review_id  star_rating  helpful_votes  total_votes vine  \\\n",
       "0   RTIS3L2M1F5SM            5              0            0    N   \n",
       "1   R1ZV7R40OLHKD            5              0            0    N   \n",
       "2  R3BH071QLH8QMC            1              0            1    N   \n",
       "3  R127K9NTSXA2YH            3              0            0    N   \n",
       "4  R32ZWUXDJPW27Q            4              0            0    N   \n",
       "\n",
       "  verified_purchase  \n",
       "0                 Y  \n",
       "1                 Y  \n",
       "2                 Y  \n",
       "3                 Y  \n",
       "4                 Y  "
      ],
      "text/html": "<div>\n<style scoped>\n    .dataframe tbody tr th:only-of-type {\n        vertical-align: middle;\n    }\n\n    .dataframe tbody tr th {\n        vertical-align: top;\n    }\n\n    .dataframe thead th {\n        text-align: right;\n    }\n</style>\n<table border=\"1\" class=\"dataframe\">\n  <thead>\n    <tr style=\"text-align: right;\">\n      <th></th>\n      <th>review_id</th>\n      <th>star_rating</th>\n      <th>helpful_votes</th>\n      <th>total_votes</th>\n      <th>vine</th>\n      <th>verified_purchase</th>\n    </tr>\n  </thead>\n  <tbody>\n    <tr>\n      <th>0</th>\n      <td>RTIS3L2M1F5SM</td>\n      <td>5</td>\n      <td>0</td>\n      <td>0</td>\n      <td>N</td>\n      <td>Y</td>\n    </tr>\n    <tr>\n      <th>1</th>\n      <td>R1ZV7R40OLHKD</td>\n      <td>5</td>\n      <td>0</td>\n      <td>0</td>\n      <td>N</td>\n      <td>Y</td>\n    </tr>\n    <tr>\n      <th>2</th>\n      <td>R3BH071QLH8QMC</td>\n      <td>1</td>\n      <td>0</td>\n      <td>1</td>\n      <td>N</td>\n      <td>Y</td>\n    </tr>\n    <tr>\n      <th>3</th>\n      <td>R127K9NTSXA2YH</td>\n      <td>3</td>\n      <td>0</td>\n      <td>0</td>\n      <td>N</td>\n      <td>Y</td>\n    </tr>\n    <tr>\n      <th>4</th>\n      <td>R32ZWUXDJPW27Q</td>\n      <td>4</td>\n      <td>0</td>\n      <td>0</td>\n      <td>N</td>\n      <td>Y</td>\n    </tr>\n  </tbody>\n</table>\n</div>"
     },
     "metadata": {},
     "execution_count": 2
    }
   ],
   "source": [
    "# read in vine table csv\n",
    "vine_df = pd.read_csv('/Users/musicmatters/Documents/Data/VandyBootcamp/Amazon_Vine_Analysis/resources/vine_table.csv')\n",
    "vine_df.head()"
   ]
  },
  {
   "cell_type": "code",
   "execution_count": 4,
   "metadata": {},
   "outputs": [
    {
     "output_type": "execute_result",
     "data": {
      "text/plain": [
       "          review_id  star_rating  helpful_votes  total_votes vine  \\\n",
       "55    R4PKAZRQJJX14            1             21           34    N   \n",
       "74   R2CI0Y288CC7E2            1             21           35    N   \n",
       "209  R127WEQY2FM1T3            1            147          175    N   \n",
       "289  R3EZ0EPYLDA34S            1             14           31    N   \n",
       "483  R2FJ94555FZH32            2             55           60    N   \n",
       "\n",
       "    verified_purchase  \n",
       "55                  N  \n",
       "74                  Y  \n",
       "209                 Y  \n",
       "289                 Y  \n",
       "483                 N  "
      ],
      "text/html": "<div>\n<style scoped>\n    .dataframe tbody tr th:only-of-type {\n        vertical-align: middle;\n    }\n\n    .dataframe tbody tr th {\n        vertical-align: top;\n    }\n\n    .dataframe thead th {\n        text-align: right;\n    }\n</style>\n<table border=\"1\" class=\"dataframe\">\n  <thead>\n    <tr style=\"text-align: right;\">\n      <th></th>\n      <th>review_id</th>\n      <th>star_rating</th>\n      <th>helpful_votes</th>\n      <th>total_votes</th>\n      <th>vine</th>\n      <th>verified_purchase</th>\n    </tr>\n  </thead>\n  <tbody>\n    <tr>\n      <th>55</th>\n      <td>R4PKAZRQJJX14</td>\n      <td>1</td>\n      <td>21</td>\n      <td>34</td>\n      <td>N</td>\n      <td>N</td>\n    </tr>\n    <tr>\n      <th>74</th>\n      <td>R2CI0Y288CC7E2</td>\n      <td>1</td>\n      <td>21</td>\n      <td>35</td>\n      <td>N</td>\n      <td>Y</td>\n    </tr>\n    <tr>\n      <th>209</th>\n      <td>R127WEQY2FM1T3</td>\n      <td>1</td>\n      <td>147</td>\n      <td>175</td>\n      <td>N</td>\n      <td>Y</td>\n    </tr>\n    <tr>\n      <th>289</th>\n      <td>R3EZ0EPYLDA34S</td>\n      <td>1</td>\n      <td>14</td>\n      <td>31</td>\n      <td>N</td>\n      <td>Y</td>\n    </tr>\n    <tr>\n      <th>483</th>\n      <td>R2FJ94555FZH32</td>\n      <td>2</td>\n      <td>55</td>\n      <td>60</td>\n      <td>N</td>\n      <td>N</td>\n    </tr>\n  </tbody>\n</table>\n</div>"
     },
     "metadata": {},
     "execution_count": 4
    }
   ],
   "source": [
    "# Filter DF by total votes greater than 20\n",
    "total_votes_df = vine_df[vine_df['total_votes'] >= 20]\n",
    "total_votes_df.head()"
   ]
  },
  {
   "cell_type": "code",
   "execution_count": 5,
   "metadata": {},
   "outputs": [],
   "source": [
    "# Begin process of filtering by helpful vote % > 50 by adding a new column with calculation\n",
    "total_votes_df['helpful_percentage'] = total_votes_df.apply(lambda row: row.helpful_votes / \n",
    "                                  row.total_votes, axis = 1)"
   ]
  },
  {
   "cell_type": "code",
   "execution_count": 6,
   "metadata": {},
   "outputs": [
    {
     "output_type": "execute_result",
     "data": {
      "text/plain": [
       "          review_id  star_rating  helpful_votes  total_votes vine  \\\n",
       "55    R4PKAZRQJJX14            1             21           34    N   \n",
       "74   R2CI0Y288CC7E2            1             21           35    N   \n",
       "209  R127WEQY2FM1T3            1            147          175    N   \n",
       "289  R3EZ0EPYLDA34S            1             14           31    N   \n",
       "483  R2FJ94555FZH32            2             55           60    N   \n",
       "\n",
       "    verified_purchase  helpful_percentage  \n",
       "55                  N            0.617647  \n",
       "74                  Y            0.600000  \n",
       "209                 Y            0.840000  \n",
       "289                 Y            0.451613  \n",
       "483                 N            0.916667  "
      ],
      "text/html": "<div>\n<style scoped>\n    .dataframe tbody tr th:only-of-type {\n        vertical-align: middle;\n    }\n\n    .dataframe tbody tr th {\n        vertical-align: top;\n    }\n\n    .dataframe thead th {\n        text-align: right;\n    }\n</style>\n<table border=\"1\" class=\"dataframe\">\n  <thead>\n    <tr style=\"text-align: right;\">\n      <th></th>\n      <th>review_id</th>\n      <th>star_rating</th>\n      <th>helpful_votes</th>\n      <th>total_votes</th>\n      <th>vine</th>\n      <th>verified_purchase</th>\n      <th>helpful_percentage</th>\n    </tr>\n  </thead>\n  <tbody>\n    <tr>\n      <th>55</th>\n      <td>R4PKAZRQJJX14</td>\n      <td>1</td>\n      <td>21</td>\n      <td>34</td>\n      <td>N</td>\n      <td>N</td>\n      <td>0.617647</td>\n    </tr>\n    <tr>\n      <th>74</th>\n      <td>R2CI0Y288CC7E2</td>\n      <td>1</td>\n      <td>21</td>\n      <td>35</td>\n      <td>N</td>\n      <td>Y</td>\n      <td>0.600000</td>\n    </tr>\n    <tr>\n      <th>209</th>\n      <td>R127WEQY2FM1T3</td>\n      <td>1</td>\n      <td>147</td>\n      <td>175</td>\n      <td>N</td>\n      <td>Y</td>\n      <td>0.840000</td>\n    </tr>\n    <tr>\n      <th>289</th>\n      <td>R3EZ0EPYLDA34S</td>\n      <td>1</td>\n      <td>14</td>\n      <td>31</td>\n      <td>N</td>\n      <td>Y</td>\n      <td>0.451613</td>\n    </tr>\n    <tr>\n      <th>483</th>\n      <td>R2FJ94555FZH32</td>\n      <td>2</td>\n      <td>55</td>\n      <td>60</td>\n      <td>N</td>\n      <td>N</td>\n      <td>0.916667</td>\n    </tr>\n  </tbody>\n</table>\n</div>"
     },
     "metadata": {},
     "execution_count": 6
    }
   ],
   "source": [
    "total_votes_df.head()"
   ]
  },
  {
   "cell_type": "code",
   "execution_count": 7,
   "metadata": {},
   "outputs": [],
   "source": [
    "# create filtered df by helpful vote %\n",
    "helpful_df = total_votes_df[total_votes_df['helpful_percentage'] >= .5]"
   ]
  },
  {
   "cell_type": "code",
   "execution_count": 8,
   "metadata": {},
   "outputs": [
    {
     "output_type": "execute_result",
     "data": {
      "text/plain": [
       "          review_id  star_rating  helpful_votes  total_votes vine  \\\n",
       "55    R4PKAZRQJJX14            1             21           34    N   \n",
       "74   R2CI0Y288CC7E2            1             21           35    N   \n",
       "209  R127WEQY2FM1T3            1            147          175    N   \n",
       "483  R2FJ94555FZH32            2             55           60    N   \n",
       "537  R1U3AR67RE273L            1             51           65    N   \n",
       "\n",
       "    verified_purchase  helpful_percentage  \n",
       "55                  N            0.617647  \n",
       "74                  Y            0.600000  \n",
       "209                 Y            0.840000  \n",
       "483                 N            0.916667  \n",
       "537                 Y            0.784615  "
      ],
      "text/html": "<div>\n<style scoped>\n    .dataframe tbody tr th:only-of-type {\n        vertical-align: middle;\n    }\n\n    .dataframe tbody tr th {\n        vertical-align: top;\n    }\n\n    .dataframe thead th {\n        text-align: right;\n    }\n</style>\n<table border=\"1\" class=\"dataframe\">\n  <thead>\n    <tr style=\"text-align: right;\">\n      <th></th>\n      <th>review_id</th>\n      <th>star_rating</th>\n      <th>helpful_votes</th>\n      <th>total_votes</th>\n      <th>vine</th>\n      <th>verified_purchase</th>\n      <th>helpful_percentage</th>\n    </tr>\n  </thead>\n  <tbody>\n    <tr>\n      <th>55</th>\n      <td>R4PKAZRQJJX14</td>\n      <td>1</td>\n      <td>21</td>\n      <td>34</td>\n      <td>N</td>\n      <td>N</td>\n      <td>0.617647</td>\n    </tr>\n    <tr>\n      <th>74</th>\n      <td>R2CI0Y288CC7E2</td>\n      <td>1</td>\n      <td>21</td>\n      <td>35</td>\n      <td>N</td>\n      <td>Y</td>\n      <td>0.600000</td>\n    </tr>\n    <tr>\n      <th>209</th>\n      <td>R127WEQY2FM1T3</td>\n      <td>1</td>\n      <td>147</td>\n      <td>175</td>\n      <td>N</td>\n      <td>Y</td>\n      <td>0.840000</td>\n    </tr>\n    <tr>\n      <th>483</th>\n      <td>R2FJ94555FZH32</td>\n      <td>2</td>\n      <td>55</td>\n      <td>60</td>\n      <td>N</td>\n      <td>N</td>\n      <td>0.916667</td>\n    </tr>\n    <tr>\n      <th>537</th>\n      <td>R1U3AR67RE273L</td>\n      <td>1</td>\n      <td>51</td>\n      <td>65</td>\n      <td>N</td>\n      <td>Y</td>\n      <td>0.784615</td>\n    </tr>\n  </tbody>\n</table>\n</div>"
     },
     "metadata": {},
     "execution_count": 8
    }
   ],
   "source": [
    "helpful_df.head()"
   ]
  },
  {
   "cell_type": "code",
   "execution_count": 9,
   "metadata": {},
   "outputs": [
    {
     "output_type": "execute_result",
     "data": {
      "text/plain": [
       "             review_id  star_rating  helpful_votes  total_votes vine  \\\n",
       "32611   R3KKUSGFZWSUIY            5             56           63    Y   \n",
       "33112   R10FO5UKKVZBK2            3             23           23    Y   \n",
       "69680    RM4KSGEOR7MU1            5             19           24    Y   \n",
       "155361   RG7VRMYLEXD23            4             22           26    Y   \n",
       "239327  R11O4YSCPSNL6L            3             20           26    Y   \n",
       "\n",
       "       verified_purchase  helpful_percentage  \n",
       "32611                  N            0.888889  \n",
       "33112                  N            1.000000  \n",
       "69680                  N            0.791667  \n",
       "155361                 N            0.846154  \n",
       "239327                 N            0.769231  "
      ],
      "text/html": "<div>\n<style scoped>\n    .dataframe tbody tr th:only-of-type {\n        vertical-align: middle;\n    }\n\n    .dataframe tbody tr th {\n        vertical-align: top;\n    }\n\n    .dataframe thead th {\n        text-align: right;\n    }\n</style>\n<table border=\"1\" class=\"dataframe\">\n  <thead>\n    <tr style=\"text-align: right;\">\n      <th></th>\n      <th>review_id</th>\n      <th>star_rating</th>\n      <th>helpful_votes</th>\n      <th>total_votes</th>\n      <th>vine</th>\n      <th>verified_purchase</th>\n      <th>helpful_percentage</th>\n    </tr>\n  </thead>\n  <tbody>\n    <tr>\n      <th>32611</th>\n      <td>R3KKUSGFZWSUIY</td>\n      <td>5</td>\n      <td>56</td>\n      <td>63</td>\n      <td>Y</td>\n      <td>N</td>\n      <td>0.888889</td>\n    </tr>\n    <tr>\n      <th>33112</th>\n      <td>R10FO5UKKVZBK2</td>\n      <td>3</td>\n      <td>23</td>\n      <td>23</td>\n      <td>Y</td>\n      <td>N</td>\n      <td>1.000000</td>\n    </tr>\n    <tr>\n      <th>69680</th>\n      <td>RM4KSGEOR7MU1</td>\n      <td>5</td>\n      <td>19</td>\n      <td>24</td>\n      <td>Y</td>\n      <td>N</td>\n      <td>0.791667</td>\n    </tr>\n    <tr>\n      <th>155361</th>\n      <td>RG7VRMYLEXD23</td>\n      <td>4</td>\n      <td>22</td>\n      <td>26</td>\n      <td>Y</td>\n      <td>N</td>\n      <td>0.846154</td>\n    </tr>\n    <tr>\n      <th>239327</th>\n      <td>R11O4YSCPSNL6L</td>\n      <td>3</td>\n      <td>20</td>\n      <td>26</td>\n      <td>Y</td>\n      <td>N</td>\n      <td>0.769231</td>\n    </tr>\n  </tbody>\n</table>\n</div>"
     },
     "metadata": {},
     "execution_count": 9
    }
   ],
   "source": [
    "# Filter by vine reviews only\n",
    "helpful_vine_df = helpful_df[helpful_df['vine'] == 'Y']\n",
    "helpful_vine_df.head()"
   ]
  },
  {
   "cell_type": "code",
   "execution_count": 10,
   "metadata": {},
   "outputs": [],
   "source": [
    "# Filter by unpaid accounts\n",
    "notvine_helpful_df = helpful_df[helpful_df['vine'] == 'N']"
   ]
  },
  {
   "cell_type": "code",
   "execution_count": 11,
   "metadata": {},
   "outputs": [
    {
     "output_type": "execute_result",
     "data": {
      "text/plain": [
       "          review_id  star_rating  helpful_votes  total_votes vine  \\\n",
       "55    R4PKAZRQJJX14            1             21           34    N   \n",
       "74   R2CI0Y288CC7E2            1             21           35    N   \n",
       "209  R127WEQY2FM1T3            1            147          175    N   \n",
       "483  R2FJ94555FZH32            2             55           60    N   \n",
       "537  R1U3AR67RE273L            1             51           65    N   \n",
       "\n",
       "    verified_purchase  helpful_percentage  \n",
       "55                  N            0.617647  \n",
       "74                  Y            0.600000  \n",
       "209                 Y            0.840000  \n",
       "483                 N            0.916667  \n",
       "537                 Y            0.784615  "
      ],
      "text/html": "<div>\n<style scoped>\n    .dataframe tbody tr th:only-of-type {\n        vertical-align: middle;\n    }\n\n    .dataframe tbody tr th {\n        vertical-align: top;\n    }\n\n    .dataframe thead th {\n        text-align: right;\n    }\n</style>\n<table border=\"1\" class=\"dataframe\">\n  <thead>\n    <tr style=\"text-align: right;\">\n      <th></th>\n      <th>review_id</th>\n      <th>star_rating</th>\n      <th>helpful_votes</th>\n      <th>total_votes</th>\n      <th>vine</th>\n      <th>verified_purchase</th>\n      <th>helpful_percentage</th>\n    </tr>\n  </thead>\n  <tbody>\n    <tr>\n      <th>55</th>\n      <td>R4PKAZRQJJX14</td>\n      <td>1</td>\n      <td>21</td>\n      <td>34</td>\n      <td>N</td>\n      <td>N</td>\n      <td>0.617647</td>\n    </tr>\n    <tr>\n      <th>74</th>\n      <td>R2CI0Y288CC7E2</td>\n      <td>1</td>\n      <td>21</td>\n      <td>35</td>\n      <td>N</td>\n      <td>Y</td>\n      <td>0.600000</td>\n    </tr>\n    <tr>\n      <th>209</th>\n      <td>R127WEQY2FM1T3</td>\n      <td>1</td>\n      <td>147</td>\n      <td>175</td>\n      <td>N</td>\n      <td>Y</td>\n      <td>0.840000</td>\n    </tr>\n    <tr>\n      <th>483</th>\n      <td>R2FJ94555FZH32</td>\n      <td>2</td>\n      <td>55</td>\n      <td>60</td>\n      <td>N</td>\n      <td>N</td>\n      <td>0.916667</td>\n    </tr>\n    <tr>\n      <th>537</th>\n      <td>R1U3AR67RE273L</td>\n      <td>1</td>\n      <td>51</td>\n      <td>65</td>\n      <td>N</td>\n      <td>Y</td>\n      <td>0.784615</td>\n    </tr>\n  </tbody>\n</table>\n</div>"
     },
     "metadata": {},
     "execution_count": 11
    }
   ],
   "source": [
    "notvine_helpful_df.head()"
   ]
  },
  {
   "cell_type": "code",
   "execution_count": 12,
   "metadata": {},
   "outputs": [
    {
     "output_type": "execute_result",
     "data": {
      "text/plain": [
       "5    48\n",
       "4    24\n",
       "3    16\n",
       "2     5\n",
       "1     1\n",
       "Name: star_rating, dtype: int64"
      ]
     },
     "metadata": {},
     "execution_count": 12
    }
   ],
   "source": [
    "helpful_vine_df['star_rating'].value_counts()"
   ]
  },
  {
   "cell_type": "code",
   "execution_count": 13,
   "metadata": {},
   "outputs": [
    {
     "output_type": "execute_result",
     "data": {
      "text/plain": [
       "5    15663\n",
       "1    10303\n",
       "4     6738\n",
       "3     4379\n",
       "2     3388\n",
       "Name: star_rating, dtype: int64"
      ]
     },
     "metadata": {},
     "execution_count": 13
    }
   ],
   "source": [
    "notvine_helpful_df['star_rating'].value_counts()"
   ]
  },
  {
   "cell_type": "code",
   "execution_count": null,
   "metadata": {},
   "outputs": [],
   "source": []
  }
 ]
}